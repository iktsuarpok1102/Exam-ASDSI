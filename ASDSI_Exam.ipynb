{
 "cells": [
  {
   "cell_type": "markdown",
   "metadata": {},
   "source": [
    "# Written Exam Social Data Science Summer 2023\n",
    "# Advanced Social Data Science I"
   ]
  },
  {
   "attachments": {},
   "cell_type": "markdown",
   "metadata": {},
   "source": [
    "Step 0: We import all necessary libaries. We use \"import from\" for libaries or modules if we use only a specific part of the module and use this specific part many times to avoid rephrasing the name and make the code more efficient."
   ]
  },
  {
   "cell_type": "code",
   "execution_count": 51,
   "metadata": {},
   "outputs": [],
   "source": [
    "import pandas as pd\n",
    "import numpy as np\n",
    "\n",
    "from sklearn.linear_model import LinearRegression\n",
    "from sklearn.neighbors import KNeighborsRegressor\n",
    "\n",
    "from sklearn.model_selection import train_test_split\n",
    "from sklearn.model_selection import GridSearchCV\n",
    "\n",
    "from sklearn.metrics import mean_squared_error, r2_score\n",
    "\n",
    "import matplotlib.pyplot as plt\n"
   ]
  },
  {
   "cell_type": "markdown",
   "metadata": {},
   "source": [
    "## PART 1 – SUPERVISED LEARNING"
   ]
  },
  {
   "attachments": {},
   "cell_type": "markdown",
   "metadata": {},
   "source": [
    "Step 1: We first load the csv dataset into a pandas dataframe and check the dataframe for datatypes, columns and potential missing values."
   ]
  },
  {
   "cell_type": "code",
   "execution_count": 81,
   "metadata": {},
   "outputs": [
    {
     "name": "stdout",
     "output_type": "stream",
     "text": [
      "<class 'pandas.core.frame.DataFrame'>\n",
      "RangeIndex: 3841 entries, 0 to 3840\n",
      "Data columns (total 14 columns):\n",
      " #   Column       Non-Null Count  Dtype  \n",
      "---  ------       --------------  -----  \n",
      " 0   dist         3841 non-null   int64  \n",
      " 1   day          3841 non-null   int64  \n",
      " 2   lastvisit    3841 non-null   int64  \n",
      " 3   avgage       3841 non-null   float64\n",
      " 4   avginc       3841 non-null   int64  \n",
      " 5   pop          3841 non-null   int64  \n",
      " 6   sharebel18   3841 non-null   float64\n",
      " 7   agesell      3841 non-null   int64  \n",
      " 8   advertising  3841 non-null   object \n",
      " 9   standloc     3841 non-null   object \n",
      " 10  tempclose    3841 non-null   float64\n",
      " 11  totrain      3841 non-null   float64\n",
      " 12  numpeop      3841 non-null   int64  \n",
      " 13  lemonade     3841 non-null   int64  \n",
      "dtypes: float64(4), int64(8), object(2)\n",
      "memory usage: 420.2+ KB\n"
     ]
    },
    {
     "data": {
      "text/html": [
       "<div>\n",
       "<style scoped>\n",
       "    .dataframe tbody tr th:only-of-type {\n",
       "        vertical-align: middle;\n",
       "    }\n",
       "\n",
       "    .dataframe tbody tr th {\n",
       "        vertical-align: top;\n",
       "    }\n",
       "\n",
       "    .dataframe thead th {\n",
       "        text-align: right;\n",
       "    }\n",
       "</style>\n",
       "<table border=\"1\" class=\"dataframe\">\n",
       "  <thead>\n",
       "    <tr style=\"text-align: right;\">\n",
       "      <th></th>\n",
       "      <th>dist</th>\n",
       "      <th>lemonade</th>\n",
       "    </tr>\n",
       "  </thead>\n",
       "  <tbody>\n",
       "    <tr>\n",
       "      <th>count</th>\n",
       "      <td>3841.000000</td>\n",
       "      <td>3841.000000</td>\n",
       "    </tr>\n",
       "    <tr>\n",
       "      <th>mean</th>\n",
       "      <td>103.942463</td>\n",
       "      <td>249.996876</td>\n",
       "    </tr>\n",
       "    <tr>\n",
       "      <th>std</th>\n",
       "      <td>53.338225</td>\n",
       "      <td>25.766742</td>\n",
       "    </tr>\n",
       "    <tr>\n",
       "      <th>min</th>\n",
       "      <td>1.000000</td>\n",
       "      <td>98.000000</td>\n",
       "    </tr>\n",
       "    <tr>\n",
       "      <th>25%</th>\n",
       "      <td>65.000000</td>\n",
       "      <td>233.000000</td>\n",
       "    </tr>\n",
       "    <tr>\n",
       "      <th>50%</th>\n",
       "      <td>98.000000</td>\n",
       "      <td>248.000000</td>\n",
       "    </tr>\n",
       "    <tr>\n",
       "      <th>75%</th>\n",
       "      <td>132.000000</td>\n",
       "      <td>265.000000</td>\n",
       "    </tr>\n",
       "    <tr>\n",
       "      <th>max</th>\n",
       "      <td>342.000000</td>\n",
       "      <td>423.000000</td>\n",
       "    </tr>\n",
       "  </tbody>\n",
       "</table>\n",
       "</div>"
      ],
      "text/plain": [
       "              dist     lemonade\n",
       "count  3841.000000  3841.000000\n",
       "mean    103.942463   249.996876\n",
       "std      53.338225    25.766742\n",
       "min       1.000000    98.000000\n",
       "25%      65.000000   233.000000\n",
       "50%      98.000000   248.000000\n",
       "75%     132.000000   265.000000\n",
       "max     342.000000   423.000000"
      ]
     },
     "execution_count": 81,
     "metadata": {},
     "output_type": "execute_result"
    }
   ],
   "source": [
    "lemonade_data = pd.read_csv('popuplemonade.csv')\n",
    "lemonade_data.info()\n",
    "lemonade_data[['dist', 'lemonade']].describe()"
   ]
  },
  {
   "cell_type": "markdown",
   "metadata": {},
   "source": [
    "### Part 1A"
   ]
  },
  {
   "attachments": {},
   "cell_type": "markdown",
   "metadata": {},
   "source": [
    "Step 2: As we're only interested in the variable dist (distnace to Copenhagen) and lemonade (amount of sold lemonade), we extract the both columns from the rest of the dataframe."
   ]
  },
  {
   "cell_type": "code",
   "execution_count": 5,
   "metadata": {},
   "outputs": [],
   "source": [
    "data = lemonade_data[['dist', 'lemonade']]"
   ]
  },
  {
   "attachments": {},
   "cell_type": "markdown",
   "metadata": {},
   "source": [
    "Step 3: To conduct supervised learning, we divide the extracted data into train and test sets. Splitting the data allows as to train the model with the training set and evaluate it afterwards with the testing set. An usual splitting ratio (test_size) is 80% for training and 20% for testing. But it can vary from dataset to dataset and there exists no strict rule. The most important is that the testing data enough data contains to evalute the model. We also convert the X-values before splitting since the ols model from sklearn requires a two dimensional array for the training."
   ]
  },
  {
   "cell_type": "code",
   "execution_count": 7,
   "metadata": {},
   "outputs": [],
   "source": [
    "X = data['dist'].values.reshape(-1,1)\n",
    "y = data['lemonade'].values\n",
    "\n",
    "X_train, X_test, y_train, y_test = train_test_split(X, y, test_size=0.2, random_state=42)"
   ]
  },
  {
   "attachments": {},
   "cell_type": "markdown",
   "metadata": {},
   "source": [
    "Step 4: We create then the ols linear regression model and train it with our training data. Explain ols!"
   ]
  },
  {
   "cell_type": "code",
   "execution_count": 30,
   "metadata": {},
   "outputs": [],
   "source": [
    "ols_model = LinearRegression()\n",
    "ols_model.fit(X_train, y_train);"
   ]
  },
  {
   "attachments": {},
   "cell_type": "markdown",
   "metadata": {},
   "source": [
    "Step 5: We use the model on our testing set and predict the outcome (lemonade sales). This outcome is then evaluated by measuring the difference to the actual outcome from the testing set. The evaluation shows the models performance and can be measured with MSE (mean squared error) or with a R sqaured error score (r2)."
   ]
  },
  {
   "cell_type": "code",
   "execution_count": 32,
   "metadata": {},
   "outputs": [
    {
     "name": "stdout",
     "output_type": "stream",
     "text": [
      "Mean squared error: 662.4338053107184\n",
      "R squared score: 0.0997803505693825\n"
     ]
    }
   ],
   "source": [
    "y_pred_ols = ols_model.predict(X_test)\n",
    "mse_ols = mean_squared_error(y_test, y_pred_ols)\n",
    "r2_ols = r2_score(y_test, y_pred_ols)\n",
    "\n",
    "print(f'Mean squared error: {mse_ols}')\n",
    "print(f'R squared score: {r2_ols}')"
   ]
  },
  {
   "attachments": {},
   "cell_type": "markdown",
   "metadata": {},
   "source": [
    "Step 6: Interpreting results: A low MSE value indicates that the model is doing a good prediction, as it measures the difference between the value from the testing set and the acutal predicted value. A MSE of close to 0 would suggest an overfitting. The MSE is useful to compare the performance of different models. However, it is important to note, that the MSE is sensitive to strong outliers (because it squares the difference). Additionally to the MSE we used the r squared score, which can be also used to see a models performance. This metric measures the variance of the test and actual data. A score close to 1 indicates thereby a good performance. According to the score of 0.09 doesn't the model perform very accurate. To improve a models performance it could be useful to first check the relationsips between all variables and the amount of lemonade sales (e.g. by using a corellation matrix and interpret the coeffcients). "
   ]
  },
  {
   "attachments": {},
   "cell_type": "markdown",
   "metadata": {},
   "source": [
    "Step 7: We could now use the model to predict the liters of lemonade the stand will sale the next time. For example, if \"PopUp Lemande\" would open tomorrow 25 kilometers away from Copenhagen."
   ]
  },
  {
   "cell_type": "code",
   "execution_count": 65,
   "metadata": {},
   "outputs": [
    {
     "name": "stdout",
     "output_type": "stream",
     "text": [
      "According to our model the company will tomorrow sell 238 liters of lemonade.\n"
     ]
    }
   ],
   "source": [
    "tomorrows_distance = 25\n",
    "predicted_lemonade = ols_model.predict([[tomorrows_distance]])\n",
    "print(f'According to our model the company will tomorrow sell {round(predicted_lemonade[0])} liters of lemonade.')"
   ]
  },
  {
   "cell_type": "markdown",
   "metadata": {},
   "source": [
    "### Part 1B"
   ]
  },
  {
   "attachments": {},
   "cell_type": "markdown",
   "metadata": {},
   "source": [
    "Step 1: We first try to find the best/optimal number of neighbors to develop our KNearestNeighbor model. EXPLAIN KNN! We use grid search for this and firstly set the range for possible k values as well as defining the grid."
   ]
  },
  {
   "cell_type": "code",
   "execution_count": 41,
   "metadata": {},
   "outputs": [],
   "source": [
    "k_values = list(range(1,50))\n",
    "params_grid = {'n_neighbors': k_values}"
   ]
  },
  {
   "attachments": {},
   "cell_type": "markdown",
   "metadata": {},
   "source": [
    "Step 2: We initalize the regressor and the grid search with a negative MSE as scoring to identify the optimal k. The negative MSE is used to suggest a maximiation problem as sklearn tries to maximize the score. "
   ]
  },
  {
   "cell_type": "code",
   "execution_count": 42,
   "metadata": {},
   "outputs": [],
   "source": [
    "knn = KNeighborsRegressor()\n",
    "grid = GridSearchCV(knn, params_grid, scoring='neg_mean_squared_error')"
   ]
  },
  {
   "cell_type": "markdown",
   "metadata": {},
   "source": [
    "Step 4: We fit the grid search to the training data"
   ]
  },
  {
   "cell_type": "code",
   "execution_count": 44,
   "metadata": {},
   "outputs": [],
   "source": [
    "grid.fit(X_train, y_train);"
   ]
  },
  {
   "cell_type": "markdown",
   "metadata": {},
   "source": [
    "Step 5: We try to find the best value of k with the corresponding score."
   ]
  },
  {
   "cell_type": "code",
   "execution_count": 46,
   "metadata": {},
   "outputs": [
    {
     "name": "stdout",
     "output_type": "stream",
     "text": [
      "Optimal k value: 49\n"
     ]
    }
   ],
   "source": [
    "k = grid.best_params_['n_neighbors']\n",
    "print(f'Optimal k value: {k}')"
   ]
  },
  {
   "attachments": {},
   "cell_type": "markdown",
   "metadata": {},
   "source": [
    "Step 6: We train the model with the k value that we have identified"
   ]
  },
  {
   "cell_type": "code",
   "execution_count": 48,
   "metadata": {},
   "outputs": [],
   "source": [
    "knn_model = KNeighborsRegressor(n_neighbors=k)\n",
    "knn_model.fit(X_train, y_train);"
   ]
  },
  {
   "attachments": {},
   "cell_type": "markdown",
   "metadata": {},
   "source": [
    "Step 7: We evalute the model with the same metrics we have used for the ols regression to compare the performanc of both models."
   ]
  },
  {
   "cell_type": "code",
   "execution_count": 50,
   "metadata": {},
   "outputs": [
    {
     "name": "stdout",
     "output_type": "stream",
     "text": [
      "Mean squared error: 665.5747973454927\n",
      "R squared score: 0.09551187464659561\n"
     ]
    }
   ],
   "source": [
    "y_pred_knn = knn_model.predict(X_test)\n",
    "mse_knn = mean_squared_error(y_test, y_pred_knn)\n",
    "r2_knn = r2_score(y_test, y_pred_knn)\n",
    "\n",
    "print(f'Mean squared error: {mse_knn}')\n",
    "print(f'R squared score: {r2_knn}')"
   ]
  },
  {
   "attachments": {},
   "cell_type": "markdown",
   "metadata": {},
   "source": [
    "Step 8: We use linespace that generates values between minimum and the maximum values of the input X to make predictions with our two models. The plot shows the relationship between the between the distance to copenhagen and the lemonade sales. "
   ]
  },
  {
   "cell_type": "code",
   "execution_count": 74,
   "metadata": {},
   "outputs": [
    {
     "data": {
      "image/png": "[encoded data removed]",
      "text/plain": [
       "<Figure size 640x480 with 1 Axes>"
      ]
     },
     "metadata": {},
     "output_type": "display_data"
    }
   ],
   "source": [
    "plt.scatter(X_test, y_test, color='lightblue', label='Actual data')\n",
    "\n",
    "x_range = np.linspace(min(X_test), max(X_test))\n",
    "\n",
    "y_pred_ols = ols_model.predict(x_range)\n",
    "y_pred_knn = knn_model.predict(x_range)\n",
    "\n",
    "plt.plot(x_range, y_pred_ols, color='violet', label='OLS')\n",
    "plt.plot(x_range, y_pred_knn, color='darkblue', label='KNN (k=49)')\n",
    "\n",
    "plt.xlabel('Distance to Copenhagen (km)')\n",
    "plt.ylabel('Lemonade Sales (liters)')\n",
    "plt.legend()\n",
    "plt.show()"
   ]
  },
  {
   "attachments": {},
   "cell_type": "markdown",
   "metadata": {},
   "source": [
    "Step 9: Analyzing the plot: The OLS model assumes a linear relationship between distance and lemonade sales which results in a straight line. In contrast, the KNN model with k=49 follows more the actual structure of the data, which is resulting in a more flexibel curve. The plot also shows that the realtionship between the kilometers and liters is noisy (random fluctuations that doesn't follow a pattern) rather than systematically linear. The KNN model is more sensitive to this noise and capture it more than the OLS model. The goal of machine learning model is to capture the underlying relationship or pattern in the data while minimizing the influence of noise. The OLS model fits this requirement better than the KNN. But for this in contrast, the KNN model adapts easier to the fast increasing values after 280 kilometers as it doesn't follow a linear structure. "
   ]
  },
  {
   "attachments": {},
   "cell_type": "markdown",
   "metadata": {},
   "source": [
    "Step 10: Regarding the share of a distance lager than 180 kilometers the plot shows only a few datapoints with more than 180 km but for this datapoints the sales of liters are incredibly increasing. The relationship between the higher sales with more than 280 kilometers might not necessarily based on the kilometers but more on other factors (e.g. special events or festivals). Adding more variables could identify and capture this investigation and improve the models performance. "
   ]
  },
  {
   "cell_type": "markdown",
   "metadata": {},
   "source": [
    "### Part 1C"
   ]
  },
  {
   "attachments": {},
   "cell_type": "markdown",
   "metadata": {},
   "source": [
    "Based on the discussion in 1B, where we identified that neither the KNN nor the OLS model are optimal for the prediction of lemonade sales based on only kilometers, we could combine both models with an ensemble learning approch."
   ]
  },
  {
   "attachments": {},
   "cell_type": "markdown",
   "metadata": {},
   "source": [
    "### Part 1D"
   ]
  },
  {
   "cell_type": "markdown",
   "metadata": {},
   "source": []
  }
 ],
 "metadata": {
  "kernelspec": {
   "display_name": "Python 3",
   "language": "python",
   "name": "python3"
  },
  "language_info": {
   "codemirror_mode": {
    "name": "ipython",
    "version": 3
   },
   "file_extension": ".py",
   "mimetype": "text/x-python",
   "name": "python",
   "nbconvert_exporter": "python",
   "pygments_lexer": "ipython3",
   "version": "3.10.0"
  },
  "orig_nbformat": 4
 },
 "nbformat": 4,
 "nbformat_minor": 2
}
